{
 "cells": [
  {
   "cell_type": "code",
   "execution_count": 1,
   "metadata": {},
   "outputs": [],
   "source": [
    "pcentre, ncentre, scentre = [4, 4], [-4, -4], [-8, -8]\n",
    "low, high, step = -7, 7, 0.2\n",
    "I = 100"
   ]
  },
  {
   "cell_type": "markdown",
   "metadata": {},
   "source": [
    "# means of the distributions"
   ]
  },
  {
   "cell_type": "code",
   "execution_count": 2,
   "metadata": {},
   "outputs": [],
   "source": [
    "import numpy as np\n",
    "mu = {}\n",
    "mu[0] = lambda n=1: np.array(pcentre) + np.random.randn(n, 2)\n",
    "mu[1] = lambda n=1: np.array(ncentre) + np.random.randn(n, 2)\n",
    "sampler = lambda n=1: np.array(scentre) + 16 * np.random.randn(n, 2)"
   ]
  },
  {
   "cell_type": "markdown",
   "metadata": {},
   "source": [
    "# mesh"
   ]
  },
  {
   "cell_type": "code",
   "execution_count": 3,
   "metadata": {},
   "outputs": [],
   "source": [
    "x1 = np.arange(low, high, step)\n",
    "x2 = np.arange(low, high, step)\n",
    "X1, X2 = np.meshgrid(x1, x2, indexing='xy')"
   ]
  },
  {
   "cell_type": "markdown",
   "metadata": {},
   "source": [
    "# multivariate normal"
   ]
  },
  {
   "cell_type": "code",
   "execution_count": 4,
   "metadata": {},
   "outputs": [],
   "source": [
    "from scipy.stats import multivariate_normal\n",
    "F = {}\n",
    "\n",
    "F[1] = multivariate_normal.pdf(np.array([np.ravel(X1), np.ravel(X2)]).transpose(), pcentre, np.eye(2))\n",
    "F[1] = np.reshape(F[1], (len(X1), len(X2)))\n",
    "\n",
    "F[2] = multivariate_normal.pdf(np.array([np.ravel(X1), np.ravel(X2)]).transpose(), ncentre, np.eye(2))\n",
    "F[2] = np.reshape(F[2], (len(X1), len(X2)))"
   ]
  },
  {
   "cell_type": "markdown",
   "metadata": {},
   "source": [
    "# powercell density"
   ]
  },
  {
   "cell_type": "code",
   "execution_count": 5,
   "metadata": {},
   "outputs": [],
   "source": [
    "from scipy.spatial.distance import cdist\n",
    "def sample_powercell_density(X = None, w = None, nu = None):\n",
    "    n = np.array(X).shape[0]\n",
    "    if n == 1:\n",
    "        rho = np.ones((n,1))\n",
    "        return rho\n",
    "    \n",
    "    in_ = np.zeros((n,1))\n",
    "    cnt = 64000\n",
    "    Y = np.array(nu(cnt))\n",
    "    \n",
    "    product = cdist(X,Y)\n",
    "    if len(w.shape) == 1:\n",
    "        w = w.reshape((-1, 1))\n",
    "    difference = product - w\n",
    "    \n",
    "    idx = np.argmin(difference, axis=0)\n",
    "    for i in range(cnt):\n",
    "        in_[idx[i]] = in_[idx[i]] + 1\n",
    "    rho = in_ / cnt\n",
    "    \n",
    "    return rho"
   ]
  },
  {
   "cell_type": "markdown",
   "metadata": {},
   "source": [
    "# weight update"
   ]
  },
  {
   "cell_type": "code",
   "execution_count": 6,
   "metadata": {},
   "outputs": [],
   "source": [
    "def weight_update(X = None, w = None, mu = None):\n",
    "    n = len(w)\n",
    "    grad = 1 / n - sample_powercell_density(X, w, mu)\n",
    "    alpha = 0.001\n",
    "    beta = 0.99\n",
    "    z = np.zeros(n)\n",
    "    normGrad = np.linalg.norm(grad)\n",
    "    i = 1\n",
    "    while normGrad > 0.01: # 0.0001\n",
    "        if i % 100 == 0:\n",
    "            print('Iter: ', i,  'norm: ',normGrad)\n",
    "        i = i +1\n",
    "        \n",
    "        if len(z.shape) == 1:\n",
    "            z = z.reshape((-1, 1))\n",
    "        z = beta * z + grad\n",
    "        if len(w.shape) == 1:\n",
    "            w = w.reshape((-1, 1))\n",
    "        w = w + alpha*z\n",
    "        grad = 1 / n - sample_powercell_density(X, w, mu)\n",
    "        normGrad = np.linalg.norm(grad)\n",
    "        \n",
    "    return w"
   ]
  },
  {
   "cell_type": "markdown",
   "metadata": {},
   "source": [
    "# powercell_means"
   ]
  },
  {
   "cell_type": "code",
   "execution_count": 7,
   "metadata": {},
   "outputs": [],
   "source": [
    "def sample_powercell_means(X, w, nu):\n",
    "    bary = np.zeros((np.array(X).shape[0], np.array(X).shape[1]))\n",
    "    cnt = 64000\n",
    "    Y = nu(cnt)\n",
    "    n = np.array(X).shape[0]\n",
    "    in_= np.zeros((n,1))\n",
    "    if n == 1:\n",
    "        bary = np.mean(Y, axis=1)\n",
    "        return bary\n",
    "\n",
    "    product = cdist(X,Y)\n",
    "    if len(w.shape) == 1:\n",
    "        w = w.reshape((-1,1))\n",
    "    difference = product - w\n",
    "    \n",
    "    idx = np.argmin(difference, axis=0)\n",
    "    for i in range(cnt):\n",
    "        bary[idx[i]] = bary[idx[i]] + Y[i]\n",
    "        in_[idx[i]] = in_[idx[i]] + 1\n",
    "    \n",
    "    for i in range(n):\n",
    "        bary[i] = bary[i] / in_[i]\n",
    "    return bary"
   ]
  },
  {
   "cell_type": "markdown",
   "metadata": {},
   "source": [
    "# powercell update"
   ]
  },
  {
   "cell_type": "code",
   "execution_count": null,
   "metadata": {},
   "outputs": [],
   "source": [
    "def powercell_update(X = None, w = None, mu = None, sampler = None):\n",
    "    n, m, y = np.array(X).shape[0], len(mu), sampler(1)\n",
    "    if n == 0:\n",
    "        X.append(y[0])\n",
    "        X = np.array(X)\n",
    "        w = np.zeros((1,m))\n",
    "    else:\n",
    "        X = np.vstack([X, y[0]])\n",
    "        w = np.vstack([w, np.zeros((1, m))])\n",
    "    \n",
    "    for t in range(10):\n",
    "        for k in range(m):\n",
    "            retur = weight_update(X, w[:, k], mu[k])\n",
    "            w[:, k] = np.squeeze(retur)\n",
    "        n = np.array(X).shape[0]\n",
    "        Xnew = np.zeros(np.array(X).shape[0])\n",
    "        Msum = np.zeros((n,1))\n",
    "        \n",
    "        for k in range(len(mu)):\n",
    "            M = sample_powercell_density(X, w[:, k], mu[k])\n",
    "            B = sample_powercell_means(X, w[:, k], mu[k])\n",
    "    return X, w"
   ]
  },
  {
   "cell_type": "markdown",
   "metadata": {},
   "source": [
    "# files"
   ]
  },
  {
   "cell_type": "code",
   "execution_count": null,
   "metadata": {},
   "outputs": [
    {
     "name": "stderr",
     "output_type": "stream",
     "text": [
      "  1%|          | 1/100 [00:00<00:14,  6.69it/s]"
     ]
    },
    {
     "name": "stdout",
     "output_type": "stream",
     "text": [
      "Iter:  100 norm:  0.7071067811865476\n",
      "Iter:  200 norm:  0.7071067811865476\n",
      "Iter:  300 norm:  0.7071067811865476\n",
      "Iter:  400 norm:  0.7071067811865476\n",
      "Iter:  500 norm:  0.7071067811865476\n",
      "Iter:  600 norm:  0.7071067811865476\n",
      "Iter:  700 norm:  0.6437544330096153\n",
      "Iter:  100 norm:  0.7071067811865476\n",
      "Iter:  200 norm:  0.7071067811865476\n",
      "Iter:  300 norm:  0.7071067811865476\n",
      "Iter:  400 norm:  0.706974198665075\n",
      "Iter:  500 norm:  0.5191489599123984\n",
      "Iter:  600 norm:  0.5349483770545354\n"
     ]
    },
    {
     "name": "stderr",
     "output_type": "stream",
     "text": [
      "\r",
      "  2%|▏         | 2/100 [02:53<2:21:42, 86.76s/it]"
     ]
    },
    {
     "name": "stdout",
     "output_type": "stream",
     "text": [
      "Iter:  100 norm:  0.816496580927726\n",
      "Iter:  200 norm:  0.816420035569416\n",
      "Iter:  300 norm:  0.18235783382485016\n",
      "Iter:  400 norm:  0.40915713270672877\n",
      "Iter:  500 norm:  0.2917249391193127\n",
      "Iter:  600 norm:  0.24005113929987223\n",
      "Iter:  700 norm:  0.09447464817153552\n",
      "Iter:  800 norm:  0.10398954916065083\n",
      "Iter:  900 norm:  0.026920005315711152\n",
      "Iter:  1000 norm:  0.0410635365007438\n",
      "Iter:  100 norm:  0.27890928248818275\n",
      "Iter:  200 norm:  0.21148354939963218\n",
      "Iter:  300 norm:  0.17467274693590704\n",
      "Iter:  400 norm:  0.10287224312198076\n",
      "Iter:  500 norm:  0.046290714413210525\n"
     ]
    },
    {
     "name": "stderr",
     "output_type": "stream",
     "text": [
      "\r",
      "  3%|▎         | 3/100 [06:37<3:34:04, 132.42s/it]"
     ]
    },
    {
     "name": "stdout",
     "output_type": "stream",
     "text": [
      "Iter:  100 norm:  0.8660254037844386\n",
      "Iter:  200 norm:  0.8660254037844386\n",
      "Iter:  300 norm:  0.27081882583339967\n",
      "Iter:  400 norm:  0.2899875662407248\n",
      "Iter:  500 norm:  0.28903068997269776\n",
      "Iter:  600 norm:  0.22912565956499448\n",
      "Iter:  700 norm:  0.21488785342773858\n",
      "Iter:  800 norm:  0.10177506841452502\n",
      "Iter:  900 norm:  0.08913429945786162\n",
      "Iter:  1000 norm:  0.036770541931092735\n",
      "Iter:  1100 norm:  0.03055403129089516\n",
      "Iter:  1200 norm:  0.01596873471134299\n",
      "Iter:  100 norm:  0.8660254037844386\n",
      "Iter:  200 norm:  0.646916989503749\n",
      "Iter:  300 norm:  0.2935344213937588\n",
      "Iter:  400 norm:  0.28904928094774124\n",
      "Iter:  500 norm:  0.2563150641483543\n",
      "Iter:  600 norm:  0.2885841202034404\n",
      "Iter:  700 norm:  0.0558607582870681\n",
      "Iter:  800 norm:  0.08539306235085055\n",
      "Iter:  900 norm:  0.06631114513224756\n",
      "Iter:  1000 norm:  0.03311384688417747\n",
      "Iter:  1100 norm:  0.02662214810136945\n"
     ]
    },
    {
     "name": "stderr",
     "output_type": "stream",
     "text": [
      "\r",
      "  4%|▍         | 4/100 [12:03<4:49:12, 180.76s/it]"
     ]
    },
    {
     "name": "stdout",
     "output_type": "stream",
     "text": [
      "Iter:  100 norm:  0.7293301068687321\n",
      "Iter:  200 norm:  0.23682894093759954\n",
      "Iter:  300 norm:  0.22384221432532003\n",
      "Iter:  400 norm:  0.22543619610795645\n",
      "Iter:  500 norm:  0.3271197495817186\n",
      "Iter:  600 norm:  0.19793809944257196\n",
      "Iter:  700 norm:  0.22429498268533002\n",
      "Iter:  800 norm:  0.13775536478607195\n",
      "Iter:  900 norm:  0.2822427686739733\n",
      "Iter:  1000 norm:  0.10205859606740628\n",
      "Iter:  100 norm:  0.6860592196958565\n",
      "Iter:  200 norm:  0.24586349446421737\n",
      "Iter:  300 norm:  0.22631840838220882\n",
      "Iter:  400 norm:  0.19936163013557173\n",
      "Iter:  500 norm:  0.2074836919419813\n",
      "Iter:  600 norm:  0.13552479016770325\n",
      "Iter:  700 norm:  0.07321753293376015\n",
      "Iter:  800 norm:  0.04200638786058318\n"
     ]
    },
    {
     "name": "stderr",
     "output_type": "stream",
     "text": [
      "\r",
      "  5%|▌         | 5/100 [16:28<5:12:54, 197.63s/it]"
     ]
    },
    {
     "name": "stdout",
     "output_type": "stream",
     "text": [
      "Iter:  100 norm:  0.18259719247710474\n",
      "Iter:  200 norm:  0.18265974743586322\n",
      "Iter:  300 norm:  0.18258497549015248\n",
      "Iter:  400 norm:  0.18259783024635612\n",
      "Iter:  500 norm:  0.18257899037913586\n",
      "Iter:  600 norm:  0.06813022724593933\n",
      "Iter:  700 norm:  0.1867029146876518\n",
      "Iter:  800 norm:  0.12047775109585412\n",
      "Iter:  900 norm:  0.097406675254392\n",
      "Iter:  1000 norm:  0.09307626311368722\n",
      "Iter:  1100 norm:  0.04264106109310406\n",
      "Iter:  1200 norm:  0.03772419742836929\n",
      "Iter:  1300 norm:  0.013950398086464541\n",
      "Iter:  100 norm:  0.1816674283539556\n",
      "Iter:  200 norm:  0.09621367685824785\n",
      "Iter:  300 norm:  0.09312708331003035\n",
      "Iter:  400 norm:  0.08065980857931714\n",
      "Iter:  500 norm:  0.030805904360845893\n",
      "Iter:  600 norm:  0.015890658288231278\n"
     ]
    },
    {
     "name": "stderr",
     "output_type": "stream",
     "text": [
      "\r",
      "  6%|▌         | 6/100 [20:56<5:28:02, 209.39s/it]"
     ]
    },
    {
     "name": "stdout",
     "output_type": "stream",
     "text": [
      "Iter:  100 norm:  0.15441734368125848\n",
      "Iter:  200 norm:  0.1535687693135624\n",
      "Iter:  300 norm:  0.08497475908715271\n",
      "Iter:  400 norm:  0.13403532363784146\n",
      "Iter:  500 norm:  0.05127702426112393\n",
      "Iter:  600 norm:  0.035103671992946735\n",
      "Iter:  100 norm:  0.15462111332488165\n",
      "Iter:  200 norm:  0.15433236764026817\n",
      "Iter:  300 norm:  0.1544052735191172\n",
      "Iter:  400 norm:  0.15433269984197578\n",
      "Iter:  500 norm:  0.15437528692497918\n",
      "Iter:  600 norm:  0.154327128250191\n",
      "Iter:  700 norm:  0.15432492613460372\n",
      "Iter:  800 norm:  0.1543323407477177\n",
      "Iter:  900 norm:  0.13799046125281048\n",
      "Iter:  1000 norm:  0.24345723647185638\n",
      "Iter:  1100 norm:  0.2184616441285681\n",
      "Iter:  1200 norm:  0.09124213212166375\n"
     ]
    }
   ],
   "source": [
    "from tqdm import tqdm\n",
    "filename='fw-updates.gif'\n",
    "X, w = [], []\n",
    "for i in tqdm(range(I)):\n",
    "    X, w = powercell_update(X, w, mu, sampler)"
   ]
  },
  {
   "cell_type": "markdown",
   "metadata": {},
   "source": [
    "#  'r': [run all cells](https://stackoverflow.com/questions/33143753/jupyter-ipython-notebooks-shortcut-for-run-all)"
   ]
  },
  {
   "cell_type": "code",
   "execution_count": null,
   "metadata": {},
   "outputs": [],
   "source": [
    "get_ipython().run_cell_magic('javascript', '', \"\\nJupyter.keyboard_manager.command_shortcuts.add_shortcut('r', {\\n    help : 'run all cells',\\n    help_index : 'zz',\\n    handler : function (event) {\\n        IPython.notebook.execute_all_cells();\\n        return false;\\n    }}\\n);\")"
   ]
  },
  {
   "cell_type": "code",
   "execution_count": null,
   "metadata": {},
   "outputs": [],
   "source": []
  }
 ],
 "metadata": {
  "kernelspec": {
   "display_name": "Python [conda root]",
   "language": "python",
   "name": "conda-root-py"
  },
  "language_info": {
   "codemirror_mode": {
    "name": "ipython",
    "version": 3
   },
   "file_extension": ".py",
   "mimetype": "text/x-python",
   "name": "python",
   "nbconvert_exporter": "python",
   "pygments_lexer": "ipython3",
   "version": "3.6.7"
  }
 },
 "nbformat": 4,
 "nbformat_minor": 2
}
