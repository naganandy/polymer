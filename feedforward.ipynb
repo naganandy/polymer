{
 "cells": [
  {
   "cell_type": "markdown",
   "metadata": {},
   "source": [
    "# read polymer data"
   ]
  },
  {
   "cell_type": "code",
   "execution_count": 1,
   "metadata": {},
   "outputs": [],
   "source": [
    "# the table for trial analysis in xlsx is converted to csv for easier parsing\n",
    "\n",
    "import csv\n",
    "with open('IO.csv', 'r') as file:\n",
    "    contents = csv.reader(file)\n",
    "    \n",
    "    data = []\n",
    "    for row in contents:\n",
    "        if row[0] != '' and row[0] != 'Matrix':\n",
    "            data.append(row)"
   ]
  },
  {
   "cell_type": "markdown",
   "metadata": {},
   "source": [
    "# get input (I) and output (O)"
   ]
  },
  {
   "cell_type": "code",
   "execution_count": 2,
   "metadata": {},
   "outputs": [],
   "source": [
    "# input consists of processing temperature, screw, and, residence time (3-d vector)\n",
    "# output consists of tensile strength (a scalar) \n",
    "\n",
    "I, O = [], []\n",
    "for d in data:\n",
    "    temperature = float(d[1][:-3])  # to remove OC\n",
    "    if d[2] == '':\n",
    "        screw = 0\n",
    "    else:\n",
    "        screw = float(d[2])\n",
    "    if d[3] == '':\n",
    "        residence = 0\n",
    "    else:   \n",
    "        residence = float(d[3])\n",
    "    I.append([temperature, screw, residence])\n",
    "    \n",
    "    strength = float(d[4])\n",
    "    O.append(strength)"
   ]
  },
  {
   "cell_type": "markdown",
   "metadata": {},
   "source": [
    "# normalise output"
   ]
  },
  {
   "cell_type": "code",
   "execution_count": 3,
   "metadata": {},
   "outputs": [],
   "source": [
    "maximum = max(O)\n",
    "O = [o/maximum for o in O]"
   ]
  },
  {
   "cell_type": "markdown",
   "metadata": {},
   "source": [
    "# [feedforward neural network](https://en.wikipedia.org/wiki/Feedforward_neural_network)"
   ]
  },
  {
   "cell_type": "code",
   "execution_count": 4,
   "metadata": {},
   "outputs": [],
   "source": [
    "import torch, torch.nn as nn, torch.nn.functional as F\n",
    "\n",
    "class FeedNet(nn.Module):\n",
    "    \n",
    "    def __init__(self):\n",
    "        super(FeedNet, self).__init__()\n",
    "        self.layer1 = nn.Linear(3, 16)\n",
    "        self.layer2 = nn.Linear(16, 1)\n",
    "        self.sigmoid = nn.Sigmoid()\n",
    "    \n",
    "    def forward(self, x):\n",
    "        out = F.relu(self.layer1(x))\n",
    "        out = self.layer2(out)\n",
    "        out = self.sigmoid(out)\n",
    "        return out"
   ]
  },
  {
   "cell_type": "markdown",
   "metadata": {},
   "source": [
    "# 80% train and 20% test"
   ]
  },
  {
   "cell_type": "code",
   "execution_count": 5,
   "metadata": {},
   "outputs": [],
   "source": [
    "import random\n",
    "full = range(len(I))\n",
    "train = random.sample(full, int(0.8*len(I)))\n",
    "test = list(set(full) - set(train))"
   ]
  },
  {
   "cell_type": "markdown",
   "metadata": {},
   "source": [
    "# train the model"
   ]
  },
  {
   "cell_type": "code",
   "execution_count": 6,
   "metadata": {},
   "outputs": [
    {
     "name": "stderr",
     "output_type": "stream",
     "text": [
      "100%|██████████| 100/100 [00:03<00:00, 28.07it/s]\n"
     ]
    }
   ],
   "source": [
    "from tqdm import tqdm\n",
    "criterion = nn.MSELoss()\n",
    "I, O = torch.FloatTensor(I), torch.FloatTensor(O).unsqueeze(1)\n",
    "FFNN = FeedNet()\n",
    "\n",
    "optimiser = torch.optim.Adam(FFNN.parameters(), lr=0.001)\n",
    "FFNN.train()\n",
    "for _ in tqdm(range(100)):\n",
    "    for i in train:\n",
    "        optimiser.zero_grad()\n",
    "        P = FFNN(I[i])\n",
    "        loss = criterion(P, O[i])\n",
    "        loss.backward()\n",
    "        optimiser.step()"
   ]
  },
  {
   "cell_type": "markdown",
   "metadata": {},
   "source": [
    "# test the model"
   ]
  },
  {
   "cell_type": "code",
   "execution_count": 14,
   "metadata": {},
   "outputs": [
    {
     "name": "stdout",
     "output_type": "stream",
     "text": [
      "datapoint 4 , actual: 1.87 , and predicted: 0.663\n",
      "datapoint 37 , actual: 1.1 , and predicted: 0.275\n",
      "datapoint 7 , actual: 2.5 , and predicted: 0.663\n",
      "datapoint 8 , actual: 2.01 , and predicted: 0.663\n",
      "datapoint 39 , actual: 10.7 , and predicted: 12.575\n",
      "datapoint 43 , actual: 15.6 , and predicted: 12.575\n",
      "datapoint 12 , actual: 1.06 , and predicted: 0.478\n",
      "datapoint 15 , actual: 1.04 , and predicted: 0.478\n",
      "datapoint 16 , actual: 1.14 , and predicted: 0.478\n"
     ]
    }
   ],
   "source": [
    "FFNN.eval()\n",
    "for i in test:\n",
    "    P = FFNN(I[i])\n",
    "    print(\"datapoint\", i, \", actual:\", round(float(O[i]*maximum), 3), \", and predicted:\", round(float(P*maximum), 3))"
   ]
  },
  {
   "cell_type": "code",
   "execution_count": 8,
   "metadata": {},
   "outputs": [
    {
     "data": {
      "application/javascript": [
       "\n",
       "Jupyter.keyboard_manager.command_shortcuts.add_shortcut('r', {\n",
       "    help : 'run all cells',\n",
       "    help_index : 'zz',\n",
       "    handler : function (event) {\n",
       "        IPython.notebook.execute_all_cells();\n",
       "        return false;\n",
       "    }}\n",
       ");"
      ],
      "text/plain": [
       "<IPython.core.display.Javascript object>"
      ]
     },
     "metadata": {},
     "output_type": "display_data"
    }
   ],
   "source": [
    "%%javascript\n",
    "\n",
    "Jupyter.keyboard_manager.command_shortcuts.add_shortcut('r', {\n",
    "    help : 'run all cells',\n",
    "    help_index : 'zz',\n",
    "    handler : function (event) {\n",
    "        IPython.notebook.execute_all_cells();\n",
    "        return false;\n",
    "    }}\n",
    ");"
   ]
  },
  {
   "cell_type": "code",
   "execution_count": null,
   "metadata": {},
   "outputs": [],
   "source": []
  }
 ],
 "metadata": {
  "kernelspec": {
   "display_name": "Python [conda root]",
   "language": "python",
   "name": "conda-root-py"
  },
  "language_info": {
   "codemirror_mode": {
    "name": "ipython",
    "version": 3
   },
   "file_extension": ".py",
   "mimetype": "text/x-python",
   "name": "python",
   "nbconvert_exporter": "python",
   "pygments_lexer": "ipython3",
   "version": "3.6.7"
  }
 },
 "nbformat": 4,
 "nbformat_minor": 2
}
