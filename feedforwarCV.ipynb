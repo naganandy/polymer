{
 "cells": [
  {
   "cell_type": "markdown",
   "metadata": {},
   "source": [
    "# read polymer data"
   ]
  },
  {
   "cell_type": "code",
   "execution_count": 1,
   "metadata": {},
   "outputs": [],
   "source": [
    "import polymer\n",
    "data =  polymer.read(\"polymer.csv\")"
   ]
  },
  {
   "cell_type": "markdown",
   "metadata": {},
   "source": [
    "# split to train-test"
   ]
  },
  {
   "cell_type": "code",
   "execution_count": 2,
   "metadata": {},
   "outputs": [],
   "source": [
    "p = 0.8   # percentage for training\n",
    "splits, s = [], 10  # get s splits\n",
    "\n",
    "for i in range(s):\n",
    "    train, test = data.split(p, i)\n",
    "    splits.append((train, test))"
   ]
  },
  {
   "cell_type": "markdown",
   "metadata": {},
   "source": [
    "# [feedforward neural network](https://en.wikipedia.org/wiki/Feedforward_neural_network)"
   ]
  },
  {
   "cell_type": "code",
   "execution_count": 3,
   "metadata": {},
   "outputs": [],
   "source": [
    "import torch, torch.nn as nn, torch.nn.functional as F\n",
    "\n",
    "class FeedNet(nn.Module):\n",
    "    \n",
    "    def __init__(self, h):\n",
    "        super(FeedNet, self).__init__()\n",
    "        self.layer1 = nn.Linear(3, h)\n",
    "        self.layer2 = nn.Linear(h, 1)\n",
    "        self.sigmoid = nn.Sigmoid()\n",
    "    \n",
    "    def forward(self, x):\n",
    "        out = F.relu(self.layer1(x))\n",
    "        out = self.layer2(out)\n",
    "        out = self.sigmoid(out)\n",
    "        return out"
   ]
  },
  {
   "cell_type": "markdown",
   "metadata": {},
   "source": [
    "# initialise regression model"
   ]
  },
  {
   "cell_type": "code",
   "execution_count": 4,
   "metadata": {},
   "outputs": [],
   "source": [
    "from skorch import NeuralNetRegressor\n",
    "e = 20 # number of epochs\n",
    "net = NeuralNetRegressor(FeedNet, max_epochs=e, verbose = 0)"
   ]
  },
  {
   "cell_type": "markdown",
   "metadata": {},
   "source": [
    "# import useful modules"
   ]
  },
  {
   "cell_type": "code",
   "execution_count": 5,
   "metadata": {},
   "outputs": [],
   "source": [
    "from sklearn.model_selection import GridSearchCV\n",
    "from sklearn.metrics import mean_squared_error, r2_score\n",
    "from tqdm import tqdm\n",
    "import numpy as np"
   ]
  },
  {
   "cell_type": "markdown",
   "metadata": {},
   "source": [
    "# select model, regress"
   ]
  },
  {
   "cell_type": "code",
   "execution_count": 6,
   "metadata": {},
   "outputs": [
    {
     "name": "stderr",
     "output_type": "stream",
     "text": [
      "100%|██████████████████████████████████████████████████████████████████████████████████| 10/10 [00:25<00:00,  2.50s/it]\n"
     ]
    },
    {
     "name": "stdout",
     "output_type": "stream",
     "text": [
      "mse:  0.192 +- 0.24\n",
      "r2:  -2.749 +- 3.524\n"
     ]
    }
   ],
   "source": [
    "mse, r2 = [], []\n",
    "for i in tqdm(range(s)):\n",
    "    train, test = splits[i]\n",
    "    X = np.array(train[\"X\"]).astype(np.float32)\n",
    "    Y = np.array(train[\"Y\"]).reshape(-1, 1).astype(np.float32)\n",
    "    \n",
    "    '''\n",
    "    select the best model\n",
    "    '''\n",
    "    params = {'module__h': [2, 3, 4, 5, 6, 7, 8, 9, 10, 11, 12, 13, 14, 15, 16]}\n",
    "    GS = GridSearchCV(net, params, refit=False, cv=3, scoring='r2', verbose=0)\n",
    "    _ = GS.fit(X, Y)\n",
    "    \n",
    "    '''\n",
    "    train the best model\n",
    "    '''\n",
    "    FFNN = FeedNet(GS.best_params_['module__h'])\n",
    "    best = NeuralNetRegressor(FFNN, max_epochs=e, verbose = 0)\n",
    "    _ = best.fit(X, Y)\n",
    "    \n",
    "    '''\n",
    "    test the best model\n",
    "    '''\n",
    "    X = np.array(test[\"X\"]).astype(np.float32)\n",
    "    Y = np.array(test[\"Y\"]).reshape(-1, 1).astype(np.float32)\n",
    "    Z = best.predict(X)\n",
    "    \n",
    "    mse.append(mean_squared_error(Y, Z))\n",
    "    r2.append(r2_score(Y.squeeze(), Z.squeeze()))\n",
    "\n",
    "print(\"mse: \", round(np.mean(mse), 3), \"+-\", round(np.std(mse), 3))\n",
    "print(\"r2: \", round(np.mean(r2), 3), \"+-\", round(np.std(r2), 3))"
   ]
  },
  {
   "cell_type": "markdown",
   "metadata": {},
   "source": [
    "# [run all cells](https://stackoverflow.com/questions/33143753/jupyter-ipython-notebooks-shortcut-for-run-all)"
   ]
  },
  {
   "cell_type": "code",
   "execution_count": 7,
   "metadata": {},
   "outputs": [
    {
     "data": {
      "application/javascript": [
       "\n",
       "Jupyter.keyboard_manager.command_shortcuts.add_shortcut('r', {\n",
       "    help : 'run all cells',\n",
       "    help_index : 'zz',\n",
       "    handler : function (event) {\n",
       "        IPython.notebook.execute_all_cells();\n",
       "        return false;\n",
       "    }}\n",
       ");"
      ],
      "text/plain": [
       "<IPython.core.display.Javascript object>"
      ]
     },
     "metadata": {},
     "output_type": "display_data"
    }
   ],
   "source": [
    "%%javascript\n",
    "\n",
    "Jupyter.keyboard_manager.command_shortcuts.add_shortcut('r', {\n",
    "    help : 'run all cells',\n",
    "    help_index : 'zz',\n",
    "    handler : function (event) {\n",
    "        IPython.notebook.execute_all_cells();\n",
    "        return false;\n",
    "    }}\n",
    ");"
   ]
  },
  {
   "cell_type": "code",
   "execution_count": null,
   "metadata": {},
   "outputs": [],
   "source": []
  }
 ],
 "metadata": {
  "kernelspec": {
   "display_name": "Python 3",
   "language": "python",
   "name": "python3"
  },
  "language_info": {
   "codemirror_mode": {
    "name": "ipython",
    "version": 3
   },
   "file_extension": ".py",
   "mimetype": "text/x-python",
   "name": "python",
   "nbconvert_exporter": "python",
   "pygments_lexer": "ipython3",
   "version": "3.7.0"
  }
 },
 "nbformat": 4,
 "nbformat_minor": 2
}
