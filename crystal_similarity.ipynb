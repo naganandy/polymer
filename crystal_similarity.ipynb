{
 "cells": [
  {
   "cell_type": "markdown",
   "metadata": {},
   "source": [
    "# cif file names"
   ]
  },
  {
   "cell_type": "code",
   "execution_count": 1,
   "metadata": {},
   "outputs": [],
   "source": [
    "cif1 = \"4.cif\"\n",
    "cif2 = \"5.cif\""
   ]
  },
  {
   "cell_type": "markdown",
   "metadata": {},
   "source": [
    "# parse cif files"
   ]
  },
  {
   "cell_type": "code",
   "execution_count": 2,
   "metadata": {
    "scrolled": true
   },
   "outputs": [
    {
     "name": "stderr",
     "output_type": "stream",
     "text": [
      "/home/ynaganand/anaconda3/envs/deepchem/lib/python3.5/site-packages/pymatgen/io/cif.py:43: UserWarning: Please install optional dependency pybtex if youwant to extract references from CIF files.\n",
      "  warnings.warn(\"Please install optional dependency pybtex if you\"\n"
     ]
    }
   ],
   "source": [
    "from pymatgen.io.cif import CifParser\n",
    "c1 = CifParser(cif1).get_structures()[0].as_dict()\n",
    "c2 = CifParser(cif2).get_structures()[0].as_dict()"
   ]
  },
  {
   "cell_type": "markdown",
   "metadata": {},
   "source": [
    "# get the lattice vectors $a_1$ and $a_2$"
   ]
  },
  {
   "cell_type": "code",
   "execution_count": 3,
   "metadata": {},
   "outputs": [],
   "source": [
    "import numpy as np\n",
    "a1 = c1['lattice']['matrix']\n",
    "a2 = c2['lattice']['matrix']"
   ]
  },
  {
   "cell_type": "markdown",
   "metadata": {},
   "source": [
    "# compute overlap / similarity matrix: $s = a_1\\times a_2$"
   ]
  },
  {
   "cell_type": "code",
   "execution_count": 4,
   "metadata": {},
   "outputs": [],
   "source": [
    "a1 = np.array([np.array(x) for x in a1])\n",
    "a2 = np.array([np.array(x) for x in a1])\n",
    "s = np.matmul(a1, a2)"
   ]
  },
  {
   "cell_type": "markdown",
   "metadata": {},
   "source": [
    "# $S=UsV^T$, $T = UV^T$, and transform a2 by T"
   ]
  },
  {
   "cell_type": "code",
   "execution_count": 5,
   "metadata": {},
   "outputs": [],
   "source": [
    "U, S, Vt = np.linalg.svd(s, full_matrices=True)\n",
    "T = np.matmul(U, Vt)\n",
    "A2 = np.matmul(T, a2)"
   ]
  },
  {
   "cell_type": "markdown",
   "metadata": {},
   "source": [
    "# compute minimum over all permutation matrices"
   ]
  },
  {
   "cell_type": "code",
   "execution_count": 6,
   "metadata": {},
   "outputs": [],
   "source": [
    "minimum = 100000\n",
    "perm = {0: [0, 1, 2], 1: [0, 2, 1], 2: [1, 0, 2], 3: [1, 2, 0], 4: [2, 0, 1], 5: [2, 1, 0]}\n",
    "\n",
    "for i in range(6):\n",
    "    p = np.eye(3)\n",
    "    p[[0, 1, 2]] = p[perm[i]]\n",
    "    \n",
    "    diff = (a1 - np.matmul(p, A2))\n",
    "    norm = np.linalg.norm(diff)\n",
    "    \n",
    "    if norm < minimum:\n",
    "        minimum = norm"
   ]
  },
  {
   "cell_type": "markdown",
   "metadata": {},
   "source": [
    "# a possible candidate for smiliarity score is $\\frac{1}{|1-min|}$"
   ]
  },
  {
   "cell_type": "code",
   "execution_count": 7,
   "metadata": {},
   "outputs": [
    {
     "name": "stdout",
     "output_type": "stream",
     "text": [
      "similarity score of the two crystals is  0.468756639666\n"
     ]
    }
   ],
   "source": [
    "print(\"similarity score of the two crystals is \", 1 / np.abs(1 - minimum))"
   ]
  },
  {
   "cell_type": "markdown",
   "metadata": {},
   "source": [
    "# run all cells"
   ]
  },
  {
   "cell_type": "code",
   "execution_count": 8,
   "metadata": {},
   "outputs": [
    {
     "data": {
      "application/javascript": [
       "\n",
       "Jupyter.keyboard_manager.command_shortcuts.add_shortcut('r', {\n",
       "    help : 'run all cells',\n",
       "    help_index : 'zz',\n",
       "    handler : function (event) {\n",
       "        IPython.notebook.execute_all_cells();\n",
       "        return false;\n",
       "    }}\n",
       ");"
      ],
      "text/plain": [
       "<IPython.core.display.Javascript object>"
      ]
     },
     "metadata": {},
     "output_type": "display_data"
    }
   ],
   "source": [
    "%%javascript\n",
    "\n",
    "Jupyter.keyboard_manager.command_shortcuts.add_shortcut('r', {\n",
    "    help : 'run all cells',\n",
    "    help_index : 'zz',\n",
    "    handler : function (event) {\n",
    "        IPython.notebook.execute_all_cells();\n",
    "        return false;\n",
    "    }}\n",
    ");"
   ]
  },
  {
   "cell_type": "code",
   "execution_count": null,
   "metadata": {},
   "outputs": [],
   "source": []
  }
 ],
 "metadata": {
  "kernelspec": {
   "display_name": "Python [conda env:deepchem]",
   "language": "python",
   "name": "conda-env-deepchem-py"
  },
  "language_info": {
   "codemirror_mode": {
    "name": "ipython",
    "version": 3
   },
   "file_extension": ".py",
   "mimetype": "text/x-python",
   "name": "python",
   "nbconvert_exporter": "python",
   "pygments_lexer": "ipython3",
   "version": "3.5.4"
  }
 },
 "nbformat": 4,
 "nbformat_minor": 2
}
